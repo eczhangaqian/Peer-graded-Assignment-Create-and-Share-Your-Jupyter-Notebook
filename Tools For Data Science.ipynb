{
  "metadata": {
    "language_info": {
      "name": ""
    },
    "kernelspec": {
      "name": "python",
      "display_name": "Python (Pyodide)",
      "language": "python"
    }
  },
  "nbformat_minor": 4,
  "nbformat": 4,
  "cells": [
    {
      "cell_type": "markdown",
      "source": "#### Peer-graded Assignment: Create and Share Your Jupyter Notebook",
      "metadata": {}
    },
    {
      "cell_type": "markdown",
      "source": "# Introduction ",
      "metadata": {}
    },
    {
      "cell_type": "markdown",
      "source": "## Python, R, SQL, Scala, Julia",
      "metadata": {}
    },
    {
      "cell_type": "markdown",
      "source": "# NumPy, Pandas, SciPy, Scikit-Learn, TensorFlow",
      "metadata": {}
    },
    {
      "cell_type": "markdown",
      "source": "| Data Science Tools | Description |\n| --- | --- |\n| Jupyter Notebook | An open-source web application for creating and sharing documents that contain live code, equations, visualizations, and narrative text |\n| Pandas | A library for data manipulation and analysis |\n| Scikit-Learn | A library for machine learning and predictive data analysis |",
      "metadata": {}
    },
    {
      "cell_type": "markdown",
      "source": "Arithmetic expressions are used to perform mathematical operations such as addition, subtraction, multiplication, and division. Here are some examples of arithmetic expressions:\n\n- `2 + 3`: This expression adds 2 and 3, resulting in 5.\n- `7 - 4`: This expression subtracts 4 from 7, resulting in 3.\n- `6 * 8`: This expression multiplies 6 and 8, resulting in 48.\n- `9 / 3`: This expression divides 9 by 3, resulting in 3.",
      "metadata": {}
    },
    {
      "cell_type": "code",
      "source": "# Define the numbers\na = 1\nb = 2\nc = 3\n\n# Multiply a and b\nresult1 = a * b\n\n# Add result1 and c\nresult2 = result1 + c\n\n# Print the final result\nprint(result2)",
      "metadata": {
        "trusted": true
      },
      "execution_count": null,
      "outputs": []
    },
    {
      "cell_type": "code",
      "source": "# Define the number of minutes\nminutes = 120\n\n# Convert minutes to hours\nhours = minutes / 60\n\n# Print the result\nprint(hours)",
      "metadata": {
        "trusted": true
      },
      "execution_count": null,
      "outputs": []
    },
    {
      "cell_type": "markdown",
      "source": "## Objectives",
      "metadata": {}
    },
    {
      "cell_type": "markdown",
      "source": "## Author: AZ",
      "metadata": {}
    },
    {
      "cell_type": "code",
      "source": "",
      "metadata": {},
      "execution_count": null,
      "outputs": []
    }
  ]
}